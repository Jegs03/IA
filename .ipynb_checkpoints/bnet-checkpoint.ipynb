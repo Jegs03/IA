{
 "cells": [
  {
   "cell_type": "markdown",
   "id": "7e4906d8",
   "metadata": {},
   "source": [
    "Importar librerías de Redes bayesianas y el juego"
   ]
  },
  {
   "cell_type": "code",
   "execution_count": 1,
   "id": "2d4bbe3e",
   "metadata": {},
   "outputs": [
    {
     "name": "stderr",
     "output_type": "stream",
     "text": [
      "C:\\Users\\USER\\anaconda3\\lib\\site-packages\\numpy\\_distributor_init.py:30: UserWarning: loaded more than 1 DLL from .libs:\n",
      "C:\\Users\\USER\\anaconda3\\lib\\site-packages\\numpy\\.libs\\libopenblas.EL2C6PLE4ZYW3ECEVIV3OXXGRN2NRFM2.gfortran-win_amd64.dll\n",
      "C:\\Users\\USER\\anaconda3\\lib\\site-packages\\numpy\\.libs\\libopenblas64__v0.3.21-gcc_10_3_0.dll\n",
      "  warnings.warn(\"loaded more than 1 DLL from .libs:\"\n"
     ]
    }
   ],
   "source": [
    "import pyAgrum as gum\n",
    "import pyAgrum.lib.notebook as gnb\n",
    "import matplotlib.pyplot as plt\n",
    "import numpy as np\n",
    "from itertools import product\n",
    "\n",
    "import utils\n",
    "from minesweeper_mod import MineSweeper\n",
    "from MineAgent import MineSweeper_Agent\n",
    "\n"
   ]
  },
  {
   "cell_type": "raw",
   "id": "608d85f9",
   "metadata": {},
   "source": [
    "m = MineSweeper.beginner()# Create agent\n",
    "agent = MineSweeper_Agent()\n",
    "# Create episode\n",
    "#episodio = utils.Episode(environment=m,\\\n",
    "        agent=agent,\\\n",
    "        model_name='Random',\\\n",
    "        num_rounds=15)\n",
    "# Visualize\n",
    "#episodio.renderize()"
   ]
  },
  {
   "cell_type": "code",
   "execution_count": 3,
   "id": "2197f95c",
   "metadata": {},
   "outputs": [
    {
     "data": {
      "image/svg+xml": [
       "<svg xmlns=\"http://www.w3.org/2000/svg\" xmlns:xlink=\"http://www.w3.org/1999/xlink\" width=\"371pt\" height=\"129pt\" viewBox=\"0.00 0.00 371.46 129.28\">\n",
       "<g id=\"graph0\" class=\"graph\" transform=\"scale(1 1) rotate(0) translate(4 125.28)\">\n",
       "<title>G</title>\n",
       "<!-- Casilla(3,3) -->\n",
       "<g id=\"node1\" class=\"node\">\n",
       "<title>Casilla(3,3)</title>\n",
       "<ellipse fill=\"#808080\" stroke=\"black\" cx=\"181.73\" cy=\"-21.32\" rx=\"54.73\" ry=\"21.32\"/>\n",
       "<text text-anchor=\"middle\" x=\"181.73\" y=\"-15.89\" font-family=\"Times New Roman,serif\" font-size=\"14.00\" fill=\"white\">Casilla(3,3)</text>\n",
       "</g>\n",
       "<!-- Casilla(3,2) -->\n",
       "<g id=\"node2\" class=\"node\">\n",
       "<title>Casilla(3,2)</title>\n",
       "<ellipse fill=\"#808080\" stroke=\"black\" cx=\"54.73\" cy=\"-99.96\" rx=\"54.73\" ry=\"21.32\"/>\n",
       "<text text-anchor=\"middle\" x=\"54.73\" y=\"-94.53\" font-family=\"Times New Roman,serif\" font-size=\"14.00\" fill=\"white\">Casilla(3,2)</text>\n",
       "</g>\n",
       "<!-- Casilla(3,2)&#45;&gt;Casilla(3,3) -->\n",
       "<g id=\"edge1\" class=\"edge\">\n",
       "<title>Casilla(3,2)-&gt;Casilla(3,3)</title>\n",
       "<path fill=\"none\" stroke=\"black\" d=\"M83.55,-81.57C101.33,-70.84 124.34,-56.95 143.62,-45.32\"/>\n",
       "<polygon fill=\"black\" stroke=\"black\" points=\"145.27,-47.8 152.03,-39.64 141.66,-41.81 145.27,-47.8\"/>\n",
       "</g>\n",
       "<!-- Casilla(2,2) -->\n",
       "<g id=\"node3\" class=\"node\">\n",
       "<title>Casilla(2,2)</title>\n",
       "<ellipse fill=\"#808080\" stroke=\"black\" cx=\"181.73\" cy=\"-99.96\" rx=\"54.73\" ry=\"21.32\"/>\n",
       "<text text-anchor=\"middle\" x=\"181.73\" y=\"-94.53\" font-family=\"Times New Roman,serif\" font-size=\"14.00\" fill=\"white\">Casilla(2,2)</text>\n",
       "</g>\n",
       "<!-- Casilla(2,2)&#45;&gt;Casilla(3,3) -->\n",
       "<g id=\"edge2\" class=\"edge\">\n",
       "<title>Casilla(2,2)-&gt;Casilla(3,3)</title>\n",
       "<path fill=\"none\" stroke=\"black\" d=\"M181.73,-78.42C181.73,-70.86 181.73,-62.11 181.73,-53.81\"/>\n",
       "<polygon fill=\"black\" stroke=\"black\" points=\"185.23,-53.91 181.73,-43.91 178.23,-53.91 185.23,-53.91\"/>\n",
       "</g>\n",
       "<!-- Casilla(4,2) -->\n",
       "<g id=\"node4\" class=\"node\">\n",
       "<title>Casilla(4,2)</title>\n",
       "<ellipse fill=\"#808080\" stroke=\"black\" cx=\"308.73\" cy=\"-99.96\" rx=\"54.73\" ry=\"21.32\"/>\n",
       "<text text-anchor=\"middle\" x=\"308.73\" y=\"-94.53\" font-family=\"Times New Roman,serif\" font-size=\"14.00\" fill=\"white\">Casilla(4,2)</text>\n",
       "</g>\n",
       "<!-- Casilla(4,2)&#45;&gt;Casilla(3,3) -->\n",
       "<g id=\"edge3\" class=\"edge\">\n",
       "<title>Casilla(4,2)-&gt;Casilla(3,3)</title>\n",
       "<path fill=\"none\" stroke=\"black\" d=\"M279.91,-81.57C262.13,-70.84 239.12,-56.95 219.84,-45.32\"/>\n",
       "<polygon fill=\"black\" stroke=\"black\" points=\"221.8,-41.81 211.43,-39.64 218.19,-47.8 221.8,-41.81\"/>\n",
       "</g>\n",
       "</g>\n",
       "</svg>"
      ],
      "text/plain": [
       "<IPython.core.display.SVG object>"
      ]
     },
     "metadata": {},
     "output_type": "display_data"
    }
   ],
   "source": [
    "ID = gum.InfluenceDiagram()\n",
    "casilla = gum.LabelizedVariable('Casilla(3,3)', 'Casilla(3,3)',2)\n",
    "ID.addChanceNode(casilla)\n",
    "info1 = gum.LabelizedVariable('Casilla(3,2)', 'Casilla(3,2)',3)\n",
    "info2 = gum.LabelizedVariable('Casilla(2,2)', 'Casilla(2,2)',3)\n",
    "info3 = gum.LabelizedVariable('Casilla(4,2)', 'Casilla(4,2)',3)\n",
    "ID.addChanceNode(info1)\n",
    "ID.addChanceNode(info2)\n",
    "ID.addChanceNode(info3)\n",
    "ID.addArc('Casilla(2,2)','Casilla(3,3)')\n",
    "ID.addArc('Casilla(3,2)','Casilla(3,3)')\n",
    "ID.addArc('Casilla(4,2)','Casilla(3,3)')\n",
    "gnb.showInfluenceDiagram(ID,size=\"6\")"
   ]
  },
  {
   "cell_type": "code",
   "execution_count": 6,
   "id": "055fef9f",
   "metadata": {},
   "outputs": [
    {
     "data": {
      "text/html": [
       "<table style=\"border:1px solid black;\">\n",
       "<tr style='border:1px solid black;color:black;background-color:#808080'>\n",
       "      <th colspan='8'><center>Casilla(4,2)</center></th></tr>\n",
       "<tr><th style='border:1px solid black;border-bottom-style: double;color:black;background-color:#BBBBBB'>\n",
       "      <center>0</center></th><th style='border:1px solid black;border-bottom-style: double;color:black;background-color:#BBBBBB'>\n",
       "      <center>1</center></th><th style='border:1px solid black;border-bottom-style: double;color:black;background-color:#BBBBBB'>\n",
       "      <center>2</center></th><th style='border:1px solid black;border-bottom-style: double;color:black;background-color:#BBBBBB'>\n",
       "      <center>3</center></th><th style='border:1px solid black;border-bottom-style: double;color:black;background-color:#BBBBBB'>\n",
       "      <center>4</center></th><th style='border:1px solid black;border-bottom-style: double;color:black;background-color:#BBBBBB'>\n",
       "      <center>5</center></th><th style='border:1px solid black;border-bottom-style: double;color:black;background-color:#BBBBBB'>\n",
       "      <center>6</center></th><th style='border:1px solid black;border-bottom-style: double;color:black;background-color:#BBBBBB'>\n",
       "      <center>7</center></th></tr>\n",
       "<tr><td style='color:black;background-color:#ef8f64;text-align:right;'>0.1250</td><td style='color:black;background-color:#ef8f64;text-align:right;'>0.1250</td><td style='color:black;background-color:#ef8f64;text-align:right;'>0.1250</td><td style='color:black;background-color:#ef8f64;text-align:right;'>0.1250</td><td style='color:black;background-color:#ef8f64;text-align:right;'>0.1250</td><td style='color:black;background-color:#ef8f64;text-align:right;'>0.1250</td><td style='color:black;background-color:#ef8f64;text-align:right;'>0.1250</td><td style='color:black;background-color:#ef8f64;text-align:right;'>0.1250</td></tr>\n",
       "</table>"
      ],
      "text/plain": [
       "(pyAgrum.Potential<double>@0000016FFF062800) \n",
       "  Casilla(4,2)                                                                 |\n",
       "0        |1        |2        |3        |4        |5        |6        |7        |\n",
       "---------|---------|---------|---------|---------|---------|---------|---------|\n",
       " 0.1250  | 0.1250  | 0.1250  | 0.1250  | 0.1250  | 0.1250  | 0.1250  | 0.1250  |"
      ]
     },
     "execution_count": 6,
     "metadata": {},
     "output_type": "execute_result"
    }
   ],
   "source": [
    "ID.cpt('Casilla(2,2)').fillWith(1/3)\n",
    "ID.cpt('Casilla(3,2)').fillWith(1/3)\n",
    "ID.cpt('Casilla(4,2)').fillWith(1/3)\n",
    "\n",
    "ID.cpt('Casilla(3,3)')[{'Casilla(2,2)':}]\n"
   ]
  },
  {
   "cell_type": "code",
   "execution_count": null,
   "id": "a17957f0",
   "metadata": {},
   "outputs": [],
   "source": [
    "a = MineSweeper.beginner()\n",
    "a._click_square(4,5)\n",
    "a.A_see_mat()\n",
    "a.calc_frontera()\n",
    "a.frontera"
   ]
  },
  {
   "cell_type": "code",
   "execution_count": null,
   "id": "aaea2099",
   "metadata": {},
   "outputs": [],
   "source": []
  }
 ],
 "metadata": {
  "kernelspec": {
   "display_name": "Python 3 (ipykernel)",
   "language": "python",
   "name": "python3"
  },
  "language_info": {
   "codemirror_mode": {
    "name": "ipython",
    "version": 3
   },
   "file_extension": ".py",
   "mimetype": "text/x-python",
   "name": "python",
   "nbconvert_exporter": "python",
   "pygments_lexer": "ipython3",
   "version": "3.8.8"
  }
 },
 "nbformat": 4,
 "nbformat_minor": 5
}
